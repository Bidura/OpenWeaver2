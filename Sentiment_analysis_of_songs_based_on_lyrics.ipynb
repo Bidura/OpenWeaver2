{
  "nbformat": 4,
  "nbformat_minor": 0,
  "metadata": {
    "colab": {
      "provenance": []
    },
    "kernelspec": {
      "name": "python3",
      "display_name": "Python 3"
    },
    "language_info": {
      "name": "python"
    }
  },
  "cells": [
    {
      "cell_type": "code",
      "execution_count": 1457,
      "metadata": {
        "id": "l5Mb0ibAg9jN"
      },
      "outputs": [],
      "source": [
        "#sentiment analysis of the singer based on the song lyrics using natural language processing"
      ]
    },
    {
      "cell_type": "code",
      "source": [
        "import pandas as pd"
      ],
      "metadata": {
        "id": "DyVsAp1WhFh4"
      },
      "execution_count": 1458,
      "outputs": []
    },
    {
      "cell_type": "code",
      "source": [
        "df = pd.read_csv('CharliePuth.csv')\n",
        "df2=pd.read_csv('EdSheeran.csv')\n",
        "df3 = pd.read_csv('ColdPlay.csv')\n",
        "df4 = pd.read_csv('Eminem.csv')\n",
        "df = pd.concat([df,df4])\n",
        "df = pd.concat([df,df2])\n",
        "df = pd.concat([df,df3])\n",
        "df = df[['Lyric']]"
      ],
      "metadata": {
        "id": "y28VpoZthTXu"
      },
      "execution_count": 1459,
      "outputs": []
    },
    {
      "cell_type": "code",
      "source": [
        "df.dropna(inplace=True)"
      ],
      "metadata": {
        "id": "I81nYug3nFqH"
      },
      "execution_count": 1460,
      "outputs": []
    },
    {
      "cell_type": "code",
      "source": [
        "#removing punctuations\n",
        "import string\n",
        "def depunc(para):\n",
        "  list1 =[c for c in para if c not in string.punctuation]\n",
        "  return ''.join(list1)"
      ],
      "metadata": {
        "id": "dYumvqkmltTy"
      },
      "execution_count": 1461,
      "outputs": []
    },
    {
      "cell_type": "code",
      "source": [
        "df['Lyric'] = df['Lyric'].apply(depunc)"
      ],
      "metadata": {
        "id": "VAifplm_uwp6"
      },
      "execution_count": 1462,
      "outputs": []
    },
    {
      "cell_type": "code",
      "source": [
        "# tokenizing and removing stopwords"
      ],
      "metadata": {
        "id": "l0BULuJLslJf"
      },
      "execution_count": 1463,
      "outputs": []
    },
    {
      "cell_type": "code",
      "source": [
        "import nltk\n",
        "nltk.download('stopwords')\n",
        "from nltk.corpus import stopwords\n",
        "stop_words = set(stopwords.words(\"english\"))\n",
        "from nltk.tokenize import word_tokenize"
      ],
      "metadata": {
        "id": "T-v0kl_mqr20",
        "outputId": "2aff9a08-614e-45c8-87c8-8426bc92a953",
        "colab": {
          "base_uri": "https://localhost:8080/"
        }
      },
      "execution_count": 1464,
      "outputs": [
        {
          "output_type": "stream",
          "name": "stderr",
          "text": [
            "[nltk_data] Downloading package stopwords to /root/nltk_data...\n",
            "[nltk_data]   Package stopwords is already up-to-date!\n"
          ]
        }
      ]
    },
    {
      "cell_type": "code",
      "source": [
        "def tokenize(para):\n",
        "  tokens = word_tokenize(para)\n",
        "  return tokens"
      ],
      "metadata": {
        "id": "smX4qC_tsGAO"
      },
      "execution_count": 1465,
      "outputs": []
    },
    {
      "cell_type": "code",
      "source": [
        "def remove_stopwords(token_list):\n",
        "  list1 = [word for word in token_list if word not in stop_words]\n",
        "  return ' '.join(list1)"
      ],
      "metadata": {
        "id": "kO2dKdH7qaQb"
      },
      "execution_count": 1466,
      "outputs": []
    },
    {
      "cell_type": "code",
      "source": [
        "nltk.download('punkt')\n",
        "df['Lyric'] = df['Lyric'].apply(tokenize)"
      ],
      "metadata": {
        "id": "DWpgZu8LsvZS",
        "outputId": "953e073a-5fb3-4f55-f930-77083f05aab1",
        "colab": {
          "base_uri": "https://localhost:8080/"
        }
      },
      "execution_count": 1467,
      "outputs": [
        {
          "output_type": "stream",
          "name": "stderr",
          "text": [
            "[nltk_data] Downloading package punkt to /root/nltk_data...\n",
            "[nltk_data]   Package punkt is already up-to-date!\n"
          ]
        }
      ]
    },
    {
      "cell_type": "code",
      "source": [
        "df['Lyric'] = df['Lyric'].apply(remove_stopwords)"
      ],
      "metadata": {
        "id": "kOQEEGZAs0p2"
      },
      "execution_count": 1468,
      "outputs": []
    },
    {
      "cell_type": "code",
      "source": [
        "from nltk.sentiment import SentimentIntensityAnalyzer\n",
        "nltk.download('vader_lexicon')"
      ],
      "metadata": {
        "id": "-HB2i5ixiqS6",
        "colab": {
          "base_uri": "https://localhost:8080/"
        },
        "outputId": "c8e22e48-deb1-4724-9c03-2586c03b45ae"
      },
      "execution_count": 1469,
      "outputs": [
        {
          "output_type": "stream",
          "name": "stderr",
          "text": [
            "[nltk_data] Downloading package vader_lexicon to /root/nltk_data...\n",
            "[nltk_data]   Package vader_lexicon is already up-to-date!\n"
          ]
        },
        {
          "output_type": "execute_result",
          "data": {
            "text/plain": [
              "True"
            ]
          },
          "metadata": {},
          "execution_count": 1469
        }
      ]
    },
    {
      "cell_type": "code",
      "source": [
        "def sentiment_labels(para):\n",
        "  sid = SentimentIntensityAnalyzer()\n",
        "  sentiment_scores = sid.polarity_scores(para)\n",
        "  if sentiment_scores['compound'] >0:\n",
        "    sentiment = 'Positive'\n",
        "  elif sentiment_scores['compound']<0:\n",
        "    sentiment = 'Negative'\n",
        "  else:\n",
        "    sentiment = 'Neutral'\n",
        "  return sentiment"
      ],
      "metadata": {
        "id": "W3QMeXmq8RUx"
      },
      "execution_count": 1470,
      "outputs": []
    },
    {
      "cell_type": "code",
      "source": [
        "df['labels'] = df['Lyric'].apply(sentiment_labels)"
      ],
      "metadata": {
        "id": "nJHFVN2L9Esw"
      },
      "execution_count": 1471,
      "outputs": []
    },
    {
      "cell_type": "code",
      "source": [
        "from sklearn.model_selection import train_test_split\n",
        "X_train, X_test, y_train, y_test = train_test_split(df['Lyric'], df['labels'], test_size=0.2, random_state=107)"
      ],
      "metadata": {
        "id": "4mxylUuRw1O2"
      },
      "execution_count": 2219,
      "outputs": []
    },
    {
      "cell_type": "code",
      "source": [
        "from sklearn.feature_extraction.text import TfidfVectorizer"
      ],
      "metadata": {
        "id": "d7YLdCYjuLro"
      },
      "execution_count": 2220,
      "outputs": []
    },
    {
      "cell_type": "code",
      "source": [
        "vectorizer = TfidfVectorizer()\n",
        "X_train = vectorizer.fit_transform(X_train)\n",
        "X_test = vectorizer.transform(X_test)"
      ],
      "metadata": {
        "id": "aioFp_GywHgj"
      },
      "execution_count": 2221,
      "outputs": []
    },
    {
      "cell_type": "code",
      "source": [
        "from sklearn.svm import SVC\n",
        "svc = SVC(kernel = 'linear')\n",
        "svc.fit(X_train,y_train)\n",
        "y_pred = svc.predict(X_test)\n",
        "accuracy = accuracy_score(y_test, y_pred)\n",
        "print(\"Accuracy: {:.1f}%\".format(accuracy * 100))"
      ],
      "metadata": {
        "id": "GOectJ7q3LZc",
        "colab": {
          "base_uri": "https://localhost:8080/"
        },
        "outputId": "45889037-233b-4374-c4dc-3b8fce84ad6e"
      },
      "execution_count": 2222,
      "outputs": [
        {
          "output_type": "stream",
          "name": "stdout",
          "text": [
            "Accuracy: 82.0%\n"
          ]
        }
      ]
    },
    {
      "cell_type": "code",
      "source": [
        "print(classification_report(y_test,y_pred))"
      ],
      "metadata": {
        "colab": {
          "base_uri": "https://localhost:8080/"
        },
        "id": "iqpMqBEEnt7p",
        "outputId": "a21c872f-4760-443a-dc5a-07452bc4ea0d"
      },
      "execution_count": 2223,
      "outputs": [
        {
          "output_type": "stream",
          "name": "stdout",
          "text": [
            "              precision    recall  f1-score   support\n",
            "\n",
            "    Negative       0.86      0.79      0.83       120\n",
            "     Neutral       1.00      0.20      0.33         5\n",
            "    Positive       0.78      0.88      0.83       120\n",
            "\n",
            "    accuracy                           0.82       245\n",
            "   macro avg       0.88      0.62      0.66       245\n",
            "weighted avg       0.83      0.82      0.82       245\n",
            "\n"
          ]
        }
      ]
    },
    {
      "cell_type": "code",
      "source": [
        "\n",
        "song=\"\"\"You're the perfect melody,\n",
        "The only harmony I wanna to hear.\n",
        "You're my favorite part of me,\n",
        "With you standing next to me,\n",
        "I've got nothing to fear.\"\"\""
      ],
      "metadata": {
        "id": "UWeaMKCAaqYJ"
      },
      "execution_count": 2224,
      "outputs": []
    },
    {
      "cell_type": "code",
      "source": [
        "song = depunc(song)"
      ],
      "metadata": {
        "id": "uZR31Okabo-y"
      },
      "execution_count": 2225,
      "outputs": []
    },
    {
      "cell_type": "code",
      "source": [
        "song = tokenize(song)"
      ],
      "metadata": {
        "id": "H8-3JHIzbzVE"
      },
      "execution_count": 2226,
      "outputs": []
    },
    {
      "cell_type": "code",
      "source": [
        "song = remove_stopwords(song)"
      ],
      "metadata": {
        "id": "rYFLIqAIb1k8"
      },
      "execution_count": 2227,
      "outputs": []
    },
    {
      "cell_type": "code",
      "source": [
        "sentiment_labels(song)"
      ],
      "metadata": {
        "colab": {
          "base_uri": "https://localhost:8080/",
          "height": 35
        },
        "id": "XD-XUVCCkLCB",
        "outputId": "460ac974-b2f8-4dda-bf15-b4f43784dd7e"
      },
      "execution_count": 2228,
      "outputs": [
        {
          "output_type": "execute_result",
          "data": {
            "text/plain": [
              "'Positive'"
            ],
            "application/vnd.google.colaboratory.intrinsic+json": {
              "type": "string"
            }
          },
          "metadata": {},
          "execution_count": 2228
        }
      ]
    },
    {
      "cell_type": "code",
      "source": [
        "song = vectorizer.transform([song])"
      ],
      "metadata": {
        "id": "36ClSLwfb7QU"
      },
      "execution_count": 2229,
      "outputs": []
    },
    {
      "cell_type": "code",
      "source": [
        "svc.predict(song)"
      ],
      "metadata": {
        "colab": {
          "base_uri": "https://localhost:8080/"
        },
        "id": "HNKjRv8ucKIm",
        "outputId": "d45d2045-2d67-4347-b957-57ee61bc7a49"
      },
      "execution_count": 2230,
      "outputs": [
        {
          "output_type": "execute_result",
          "data": {
            "text/plain": [
              "array(['Positive'], dtype=object)"
            ]
          },
          "metadata": {},
          "execution_count": 2230
        }
      ]
    },
    {
      "cell_type": "code",
      "source": [
        "song =  \"\"\"In the depths of my sorrow, I'm drowning tonight,\n",
        "A broken melody, a symphony of plight.\n",
        "The echoes of my heartache, they fill the empty air,\n",
        "I'm lost in this darkness, consumed by despair.\"\"\""
      ],
      "metadata": {
        "id": "zAUtaDVVst6E"
      },
      "execution_count": 2231,
      "outputs": []
    },
    {
      "cell_type": "code",
      "source": [
        "song = depunc(song)"
      ],
      "metadata": {
        "id": "gDwa2LMhs32w"
      },
      "execution_count": 2232,
      "outputs": []
    },
    {
      "cell_type": "code",
      "source": [
        "song = tokenize(song)"
      ],
      "metadata": {
        "id": "TpJ0ETP6s32x"
      },
      "execution_count": 2233,
      "outputs": []
    },
    {
      "cell_type": "code",
      "source": [
        "song = remove_stopwords(song)"
      ],
      "metadata": {
        "id": "LE-yzFRAs32x"
      },
      "execution_count": 2234,
      "outputs": []
    },
    {
      "cell_type": "code",
      "source": [
        "sentiment_labels(song)"
      ],
      "metadata": {
        "colab": {
          "base_uri": "https://localhost:8080/",
          "height": 35
        },
        "outputId": "d95747ad-910a-4b56-f5e4-6224b46bcb72",
        "id": "NOvhvAQTs32x"
      },
      "execution_count": 2235,
      "outputs": [
        {
          "output_type": "execute_result",
          "data": {
            "text/plain": [
              "'Negative'"
            ],
            "application/vnd.google.colaboratory.intrinsic+json": {
              "type": "string"
            }
          },
          "metadata": {},
          "execution_count": 2235
        }
      ]
    },
    {
      "cell_type": "code",
      "source": [
        "song = vectorizer.transform([song])"
      ],
      "metadata": {
        "id": "rjf8ZZ4gs32y"
      },
      "execution_count": 2236,
      "outputs": []
    },
    {
      "cell_type": "code",
      "source": [
        "svc.predict(song)"
      ],
      "metadata": {
        "colab": {
          "base_uri": "https://localhost:8080/"
        },
        "outputId": "6d47756c-e3fb-404c-f5e1-b123524a22c2",
        "id": "8do5Gy78s32y"
      },
      "execution_count": 2237,
      "outputs": [
        {
          "output_type": "execute_result",
          "data": {
            "text/plain": [
              "array(['Negative'], dtype=object)"
            ]
          },
          "metadata": {},
          "execution_count": 2237
        }
      ]
    },
    {
      "cell_type": "code",
      "source": [],
      "metadata": {
        "id": "c3EREZxjtIAm"
      },
      "execution_count": 2237,
      "outputs": []
    }
  ]
}